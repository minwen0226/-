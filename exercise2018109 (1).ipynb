{
 "cells": [
  {
   "cell_type": "code",
   "execution_count": 2,
   "metadata": {},
   "outputs": [
    {
     "name": "stdout",
     "output_type": "stream",
     "text": [
      "請輸入姓名minwen\n",
      "請輸入國⽂成績100\n",
      "請輸入英⽂成績200\n",
      "姓名         國⽂   英⽂\n",
      "minwen       100   200\n"
     ]
    }
   ],
   "source": [
    "name = input(\"請輸入姓名\")\n",
    "chinese_grade = input(\"請輸入國⽂成績\")\n",
    "english_grade = input(\"請輸入英⽂成績\")\n",
    "print(\"{0:8}{1:>5}{2:>5}\" .format(\"姓名\",\"國⽂\",\"英⽂\"))\n",
    "print(\"{0:<10}{1:>6}{2:>6}\" .format(name,chinese_grade,english_grade))\n"
   ]
  },
  {
   "cell_type": "code",
   "execution_count": 4,
   "metadata": {},
   "outputs": [
    {
     "data": {
      "text/plain": [
       "str"
      ]
     },
     "execution_count": 4,
     "metadata": {},
     "output_type": "execute_result"
    }
   ],
   "source": [
    "8 / 7.0\n",
    "8 + (8 + 7j)\n",
    "\"---\"\n",
    "type(8 / 7.0)\n",
    "type(8 + (8 + 7j))\n",
    "type(\"---\")"
   ]
  },
  {
   "cell_type": "code",
   "execution_count": 5,
   "metadata": {},
   "outputs": [
    {
     "data": {
      "text/plain": [
       "'I don\\'t think you\\'ll ever be just \"anybody\".'"
      ]
     },
     "execution_count": 5,
     "metadata": {},
     "output_type": "execute_result"
    }
   ],
   "source": [
    "'I am loving it!'\n",
    "'I\\'m loving it!'\n",
    "'I don\\'t think you\\'ll ever be just \"anybody\".'\n",
    "\"I don't think you'll ever be just \\\"anybody\\\".\"\n"
   ]
  },
  {
   "cell_type": "code",
   "execution_count": 6,
   "metadata": {},
   "outputs": [
    {
     "name": "stdout",
     "output_type": "stream",
     "text": [
      "Hello!How Are You?\n"
     ]
    }
   ],
   "source": [
    "str1 = \"Hello!\" + \"How Are You?\"\n",
    "print(str1)"
   ]
  },
  {
   "cell_type": "code",
   "execution_count": 7,
   "metadata": {},
   "outputs": [
    {
     "name": "stdout",
     "output_type": "stream",
     "text": [
      "Hello!Hello!Hello!\n"
     ]
    }
   ],
   "source": [
    "str2 = \"Hello!\" * 3\n",
    "print(str2)"
   ]
  },
  {
   "cell_type": "code",
   "execution_count": 8,
   "metadata": {},
   "outputs": [
    {
     "name": "stdout",
     "output_type": "stream",
     "text": [
      "Hello!\n",
      "How Are You?\n"
     ]
    }
   ],
   "source": [
    "str3 = \"Hello!\\nHow Are You?\"\n",
    "print(str3)"
   ]
  },
  {
   "cell_type": "code",
   "execution_count": 10,
   "metadata": {},
   "outputs": [
    {
     "name": "stdout",
     "output_type": "stream",
     "text": [
      "I'm loving it!\n"
     ]
    }
   ],
   "source": [
    "print(\"I'm\" + \" loving\" + \" it!\")"
   ]
  },
  {
   "cell_type": "code",
   "execution_count": 11,
   "metadata": {},
   "outputs": [
    {
     "name": "stdout",
     "output_type": "stream",
     "text": [
      "I'm loving it!!!\n"
     ]
    }
   ],
   "source": [
    "print (\"I'm loving it\" + \"!\" * 3)"
   ]
  },
  {
   "cell_type": "code",
   "execution_count": 12,
   "metadata": {},
   "outputs": [
    {
     "name": "stdout",
     "output_type": "stream",
     "text": [
      "A\n",
      "J\n"
     ]
    }
   ],
   "source": [
    "str = \"ABCDEFGHIJK\"\n",
    "print(str[0])\n",
    "print(str[-2])"
   ]
  },
  {
   "cell_type": "code",
   "execution_count": 13,
   "metadata": {},
   "outputs": [
    {
     "name": "stdout",
     "output_type": "stream",
     "text": [
      "ACEG\n"
     ]
    }
   ],
   "source": [
    "print(str[:7:2])"
   ]
  },
  {
   "cell_type": "code",
   "execution_count": 14,
   "metadata": {},
   "outputs": [
    {
     "name": "stdout",
     "output_type": "stream",
     "text": [
      "A\n"
     ]
    }
   ],
   "source": [
    "print(str[:2:2])"
   ]
  },
  {
   "cell_type": "code",
   "execution_count": 15,
   "metadata": {},
   "outputs": [
    {
     "name": "stdout",
     "output_type": "stream",
     "text": [
      "['Do', 'one', 'thing', 'at', 'a', 'time!']\n",
      "['Do', '\\none', '\\nthing \\nat a time!']\n"
     ]
    }
   ],
   "source": [
    "str1 = \"Do \\none \\nthing \\nat a time!\"\n",
    "print(str1.split())\n",
    "print(str1.split( ' ', 2 ))"
   ]
  },
  {
   "cell_type": "code",
   "execution_count": 16,
   "metadata": {},
   "outputs": [
    {
     "name": "stdout",
     "output_type": "stream",
     "text": [
      "The first wealth is health! Health is important!,長度是48\n",
      "THE FIRST WEALTH IS HEALTH! HEALTH IS IMPORTANT!\n",
      "the first wealth is health! health is important!\n",
      "Health\n"
     ]
    },
    {
     "data": {
      "text/plain": [
       "'The first wealth is health! Health is 重要!'"
      ]
     },
     "execution_count": 16,
     "metadata": {},
     "output_type": "execute_result"
    }
   ],
   "source": [
    "str = \"The first wealth is health! Health is important!\"\n",
    "print (\"{},長度是{}\" .format(str, len(str)))\n",
    "print(str.upper())\n",
    "print(str.lower())\n",
    "print(\"health\".capitalize())\n",
    "str.islower()\n",
    "str.count(\"health\")\n",
    "str.strip(\"h!\")\n",
    "str.replace(\"important\", \"重要\")"
   ]
  },
  {
   "cell_type": "code",
   "execution_count": 24,
   "metadata": {},
   "outputs": [
    {
     "name": "stdout",
     "output_type": "stream",
     "text": [
      "2018-10-19\n",
      "<class 'datetime.date'>\n"
     ]
    }
   ],
   "source": [
    "from datetime import date\n",
    "sys_date = date.today()\n",
    "print(sys_date)\n",
    "print (type(sys_date))"
   ]
  },
  {
   "cell_type": "code",
   "execution_count": 23,
   "metadata": {},
   "outputs": [
    {
     "data": {
      "text/plain": [
       "datetime.date(2017, 12, 31)"
      ]
     },
     "execution_count": 23,
     "metadata": {},
     "output_type": "execute_result"
    }
   ],
   "source": [
    "from datetime import date\n",
    "start_of_2017 = date(2017, 1, 1)\n",
    "end_of_2017 = date(2017, 12, 31)\n",
    "start_of_2017\n",
    "end_of_2017"
   ]
  },
  {
   "cell_type": "code",
   "execution_count": 25,
   "metadata": {},
   "outputs": [
    {
     "data": {
      "text/plain": [
       "datetime.date(2018, 1, 1)"
      ]
     },
     "execution_count": 25,
     "metadata": {},
     "output_type": "execute_result"
    }
   ],
   "source": [
    "from datetime import date\n",
    "start_of_2017 = date(2017, 1, 1)\n",
    "start_of_2018 = start_of_2017.replace(year = 2018)\n",
    "start_of_2018"
   ]
  },
  {
   "cell_type": "code",
   "execution_count": 26,
   "metadata": {},
   "outputs": [
    {
     "data": {
      "text/plain": [
       "364"
      ]
     },
     "execution_count": 26,
     "metadata": {},
     "output_type": "execute_result"
    }
   ],
   "source": [
    "from datetime import date\n",
    "start_of_2017 = date(2017, 1, 1)\n",
    "end_of_2017 = start_of_2017.replace(month = 12, day = 31)\n",
    "days_dff = end_of_2017 - start_of_2017\n",
    "days_dff.days"
   ]
  },
  {
   "cell_type": "code",
   "execution_count": 27,
   "metadata": {},
   "outputs": [
    {
     "data": {
      "text/plain": [
       "datetime.time"
      ]
     },
     "execution_count": 27,
     "metadata": {},
     "output_type": "execute_result"
    }
   ],
   "source": [
    "from datetime import time\n",
    "sleep_time = time(23, 0, 0)\n",
    "sleep_time\n",
    "type(sleep_time)"
   ]
  },
  {
   "cell_type": "code",
   "execution_count": 28,
   "metadata": {},
   "outputs": [
    {
     "data": {
      "text/plain": [
       "datetime.time(7, 0)"
      ]
     },
     "execution_count": 28,
     "metadata": {},
     "output_type": "execute_result"
    }
   ],
   "source": [
    "from datetime import time\n",
    "sleep_time = time(23, 0, 0)\n",
    "wake_up_time = sleep_time.replace(hour = 7)\n",
    "wake_up_time"
   ]
  },
  {
   "cell_type": "code",
   "execution_count": 29,
   "metadata": {},
   "outputs": [
    {
     "data": {
      "text/plain": [
       "datetime.datetime"
      ]
     },
     "execution_count": 29,
     "metadata": {},
     "output_type": "execute_result"
    }
   ],
   "source": [
    "from datetime import datetime\n",
    "sys_datetime = datetime.now()\n",
    "sys_datetime\n",
    "type(sys_datetime)"
   ]
  },
  {
   "cell_type": "code",
   "execution_count": 30,
   "metadata": {},
   "outputs": [
    {
     "data": {
      "text/plain": [
       "datetime.datetime(2017, 1, 1, 0, 0)"
      ]
     },
     "execution_count": 30,
     "metadata": {},
     "output_type": "execute_result"
    }
   ],
   "source": [
    "from datetime import datetime\n",
    "start_of_2017 = datetime(2017, 1, 1, 0, 0, 0)\n",
    "start_of_2017"
   ]
  },
  {
   "cell_type": "code",
   "execution_count": 31,
   "metadata": {},
   "outputs": [
    {
     "data": {
      "text/plain": [
       "datetime.datetime(2017, 12, 31, 23, 59, 59)"
      ]
     },
     "execution_count": 31,
     "metadata": {},
     "output_type": "execute_result"
    }
   ],
   "source": [
    "from datetime import datetime\n",
    "start_of_2017 = datetime(2017, 1, 1, 0, 0, 1)\n",
    "end_of_2017 = start_of_2017.replace(month = 12, day = 31, hour = 23, minute = 59, second = 59)\n",
    "end_of_2017"
   ]
  },
  {
   "cell_type": "code",
   "execution_count": 32,
   "metadata": {},
   "outputs": [
    {
     "data": {
      "text/plain": [
       "86398"
      ]
     },
     "execution_count": 32,
     "metadata": {},
     "output_type": "execute_result"
    }
   ],
   "source": [
    "from datetime import datetime\n",
    "start_of_2017 = datetime(2017, 1, 1, 0, 0, 1)\n",
    "end_of_2017 = start_of_2017.replace(month = 12, day = 31, hour = 23, minute = 59, second = 59)\n",
    "date_time_diff = end_of_2017 - start_of_2017\n",
    "date_time_diff.days\n",
    "date_time_diff.seconds"
   ]
  },
  {
   "cell_type": "code",
   "execution_count": 34,
   "metadata": {},
   "outputs": [
    {
     "name": "stdout",
     "output_type": "stream",
     "text": [
      "29.94692715\n"
     ]
    }
   ],
   "source": [
    "print (48.195 * 0.62137)"
   ]
  },
  {
   "cell_type": "code",
   "execution_count": 36,
   "metadata": {},
   "outputs": [
    {
     "name": "stdout",
     "output_type": "stream",
     "text": [
      "160\n"
     ]
    }
   ],
   "source": [
    "my_height = 160\n",
    "print (my_height)"
   ]
  },
  {
   "cell_type": "code",
   "execution_count": 38,
   "metadata": {},
   "outputs": [
    {
     "name": "stdout",
     "output_type": "stream",
     "text": [
      "60\n"
     ]
    }
   ],
   "source": [
    "my_weight = 60\n",
    "print (my_weight)"
   ]
  },
  {
   "cell_type": "code",
   "execution_count": 42,
   "metadata": {},
   "outputs": [
    {
     "name": "stdout",
     "output_type": "stream",
     "text": [
      "23.437499999999996\n"
     ]
    }
   ],
   "source": [
    "my_height = 160\n",
    "my_weight = 60\n",
    "bmi = my_weight / (my_height / 100)**2\n",
    "print(bmi)"
   ]
  },
  {
   "cell_type": "code",
   "execution_count": null,
   "metadata": {},
   "outputs": [],
   "source": []
  },
  {
   "cell_type": "code",
   "execution_count": null,
   "metadata": {},
   "outputs": [],
   "source": []
  }
 ],
 "metadata": {
  "kernelspec": {
   "display_name": "Python 3",
   "language": "python",
   "name": "python3"
  },
  "language_info": {
   "codemirror_mode": {
    "name": "ipython",
    "version": 3
   },
   "file_extension": ".py",
   "mimetype": "text/x-python",
   "name": "python",
   "nbconvert_exporter": "python",
   "pygments_lexer": "ipython3",
   "version": "3.6.5"
  }
 },
 "nbformat": 4,
 "nbformat_minor": 2
}
